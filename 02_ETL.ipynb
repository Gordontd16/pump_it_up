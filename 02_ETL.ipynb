{
 "cells": [
  {
   "cell_type": "code",
   "execution_count": 10,
   "metadata": {},
   "outputs": [],
   "source": [
    "import numpy as np\n",
    "import pandas as pd\n",
    "\n",
    "%matplotlib inline"
   ]
  },
  {
   "cell_type": "markdown",
   "metadata": {},
   "source": [
    "# ETL"
   ]
  },
  {
   "cell_type": "code",
   "execution_count": 11,
   "metadata": {},
   "outputs": [],
   "source": [
    "def transform(df):\n",
    "    df['date_recorded'] = pd.to_datetime(df['date_recorded'])\n",
    "    df['amount_tsh_is_zero'] = df['amount_tsh'] < 1e-6\n",
    "    df['amount_tsh'] = np.log10(df['amount_tsh'] + 1)\n",
    "    df['is_govt_funded'] = df['funder'] == 'Government Of Tanzania'\n",
    "    df.loc[df['longitude'] < 5, ['longitude', 'latitude']] = None\n",
    "    df.loc[df['wpt_name'] == 'none', 'wpt_name'] = None\n",
    "    df['num_private_is_zero'] = df['num_private'] == 0\n",
    "    df['num_private'] = np.log10(df['num_private'] + 1)\n",
    "    df['population_is_zero'] = df['population'] == 0\n",
    "    df['population_is_one'] = df['population'] == 1\n",
    "    df['population'] = np.log10(df['population'] + 1)\n",
    "    df.drop(columns=['recorded_by'], inplace=True)\n",
    "    df.loc[df['scheme_name'] == 'None', 'scheme_name'] = None\n",
    "    df.loc[df['construction_year'] == 0, 'construction_year'] = None\n",
    "    df['age'] = df['date_recorded'].dt.year - df['construction_year']\n",
    "    df['age'].clip_lower(0, inplace=True)\n",
    "    df.drop(columns=['payment'], inplace=True)\n",
    "    df.drop(columns=['quantity_group'], inplace=True)\n",
    "    return df"
   ]
  },
  {
   "cell_type": "markdown",
   "metadata": {},
   "source": [
    "## Training set"
   ]
  },
  {
   "cell_type": "code",
   "execution_count": 12,
   "metadata": {},
   "outputs": [],
   "source": [
    "X_train = pd.read_csv('X_train.csv')\n",
    "y_train = pd.read_csv('y_train.csv')"
   ]
  },
  {
   "cell_type": "code",
   "execution_count": 13,
   "metadata": {},
   "outputs": [],
   "source": [
    "train = pd.merge(X_train, y_train, on='id')\n",
    "train.set_index('id', inplace=True)"
   ]
  },
  {
   "cell_type": "code",
   "execution_count": 14,
   "metadata": {},
   "outputs": [],
   "source": [
    "train = transform(train)"
   ]
  },
  {
   "cell_type": "code",
   "execution_count": 15,
   "metadata": {},
   "outputs": [],
   "source": [
    "train.to_parquet('train.parquet', compression='gzip')"
   ]
  },
  {
   "cell_type": "markdown",
   "metadata": {},
   "source": [
    "## Test set"
   ]
  },
  {
   "cell_type": "code",
   "execution_count": 16,
   "metadata": {},
   "outputs": [],
   "source": [
    "test = pd.read_csv('X_test.csv')"
   ]
  },
  {
   "cell_type": "code",
   "execution_count": 17,
   "metadata": {},
   "outputs": [],
   "source": [
    "test = transform(test)"
   ]
  },
  {
   "cell_type": "code",
   "execution_count": 18,
   "metadata": {},
   "outputs": [],
   "source": [
    "test.to_parquet('test.parquet', compression='gzip')\n"
   ]
  }
 ],
 "metadata": {
  "kernelspec": {
   "display_name": "Python 3",
   "language": "python",
   "name": "python3"
  },
  "language_info": {
   "codemirror_mode": {
    "name": "ipython",
    "version": 3
   },
   "file_extension": ".py",
   "mimetype": "text/x-python",
   "name": "python",
   "nbconvert_exporter": "python",
   "pygments_lexer": "ipython3",
   "version": "3.6.4"
  }
 },
 "nbformat": 4,
 "nbformat_minor": 2
}
